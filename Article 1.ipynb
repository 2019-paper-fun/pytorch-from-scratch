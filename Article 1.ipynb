{
 "cells": [
  {
   "cell_type": "code",
   "execution_count": 1,
   "metadata": {
    "collapsed": true
   },
   "outputs": [],
   "source": [
    "import torch\n",
    "from torch.autograd import Variable\n",
    "import torch.nn as nn\n",
    "import torch.nn.functional as F"
   ]
  },
  {
   "cell_type": "code",
   "execution_count": 2,
   "metadata": {
    "collapsed": true
   },
   "outputs": [],
   "source": [
    "class Net(nn.Module):\n",
    "    def __init__(self):\n",
    "        super(Net, self).__init__()\n",
    "        self.fc1 = nn.Linear(1,2)\n",
    "        self.fc2 = nn.Linear(2,1)\n",
    "    def forward(self, x):\n",
    "        x = self.fc2(F.relu(self.fc1(x)))\n",
    "        return x\n",
    "    "
   ]
  },
  {
   "cell_type": "code",
   "execution_count": 3,
   "metadata": {},
   "outputs": [],
   "source": [
    "net = Net().cuda()"
   ]
  },
  {
   "cell_type": "code",
   "execution_count": 4,
   "metadata": {},
   "outputs": [
    {
     "name": "stdout",
     "output_type": "stream",
     "text": [
      "Net (\n",
      "  (fc1): Linear (1 -> 2)\n",
      "  (fc2): Linear (2 -> 1)\n",
      ")\n"
     ]
    }
   ],
   "source": [
    "print(net)"
   ]
  },
  {
   "cell_type": "code",
   "execution_count": 5,
   "metadata": {},
   "outputs": [
    {
     "name": "stdout",
     "output_type": "stream",
     "text": [
      "[Parameter containing:\n",
      " 0.4097\n",
      " 0.4522\n",
      "[torch.cuda.FloatTensor of size 2x1 (GPU 0)]\n",
      ", Parameter containing:\n",
      " 0.3967\n",
      "-0.8683\n",
      "[torch.cuda.FloatTensor of size 2 (GPU 0)]\n",
      ", Parameter containing:\n",
      " 0.5257  0.4379\n",
      "[torch.cuda.FloatTensor of size 1x2 (GPU 0)]\n",
      ", Parameter containing:\n",
      " 0.5758\n",
      "[torch.cuda.FloatTensor of size 1 (GPU 0)]\n",
      "]\n"
     ]
    }
   ],
   "source": [
    "print(list(net.parameters()))"
   ]
  },
  {
   "cell_type": "code",
   "execution_count": 9,
   "metadata": {},
   "outputs": [
    {
     "name": "stdout",
     "output_type": "stream",
     "text": [
      "Variable containing:\n",
      "(0 ,.,.) = \n",
      "  0.5246\n",
      "[torch.cuda.FloatTensor of size 1x1x1 (GPU 0)]\n",
      "\n"
     ]
    }
   ],
   "source": [
    "input = Variable(torch.randn(1,1,1)).cuda()\n",
    "print(input)"
   ]
  },
  {
   "cell_type": "code",
   "execution_count": 10,
   "metadata": {
    "collapsed": true
   },
   "outputs": [],
   "source": [
    "net.zero_grad()"
   ]
  },
  {
   "cell_type": "code",
   "execution_count": 11,
   "metadata": {},
   "outputs": [],
   "source": [
    "out = net(input)"
   ]
  },
  {
   "cell_type": "code",
   "execution_count": 12,
   "metadata": {},
   "outputs": [
    {
     "name": "stdout",
     "output_type": "stream",
     "text": [
      "Variable containing:\n",
      "(0 ,.,.) = \n",
      "  0.8974\n",
      "[torch.cuda.FloatTensor of size 1x1x1 (GPU 0)]\n",
      "\n"
     ]
    }
   ],
   "source": [
    "print(out)"
   ]
  },
  {
   "cell_type": "code",
   "execution_count": 13,
   "metadata": {
    "collapsed": true
   },
   "outputs": [],
   "source": [
    "import torch.optim as optim\n",
    "optimizer = optim.SGD(net.parameters(), lr=0.001, momentum=0.4)\n",
    "criterion = nn.MSELoss()"
   ]
  },
  {
   "cell_type": "code",
   "execution_count": 14,
   "metadata": {
    "collapsed": true
   },
   "outputs": [],
   "source": [
    "data = [(1,3), (2,6), (3,9), (4,12), (5,15), (6,18)]"
   ]
  },
  {
   "cell_type": "code",
   "execution_count": 15,
   "metadata": {},
   "outputs": [
    {
     "name": "stdout",
     "output_type": "stream",
     "text": [
      "Epoch 0 - loss: Variable containing:\n",
      " 168.4932\n",
      "[torch.cuda.FloatTensor of size 1 (GPU 0)]\n",
      "\n",
      "Epoch 20 - loss: Variable containing:\n",
      "1.00000e-02 *\n",
      "  7.9296\n",
      "[torch.cuda.FloatTensor of size 1 (GPU 0)]\n",
      "\n",
      "Epoch 40 - loss: Variable containing:\n",
      "1.00000e-02 *\n",
      "  3.6139\n",
      "[torch.cuda.FloatTensor of size 1 (GPU 0)]\n",
      "\n",
      "Epoch 60 - loss: Variable containing:\n",
      "1.00000e-02 *\n",
      "  1.6254\n",
      "[torch.cuda.FloatTensor of size 1 (GPU 0)]\n",
      "\n",
      "Epoch 80 - loss: Variable containing:\n",
      "1.00000e-03 *\n",
      "  7.2346\n",
      "[torch.cuda.FloatTensor of size 1 (GPU 0)]\n",
      "\n"
     ]
    }
   ],
   "source": [
    "for epoch in range(100):\n",
    "    for i, data2 in enumerate(data):\n",
    "        X, Y = iter(data2)\n",
    "        X, Y = Variable(torch.FloatTensor([X]), requires_grad=True).cuda(), Variable(torch.FloatTensor([Y]), requires_grad=False).cuda()\n",
    "        optimizer.zero_grad()\n",
    "        y_pred = net(X)\n",
    "        output = criterion(y_pred, Y)\n",
    "        output.backward()\n",
    "        optimizer.step()\n",
    "    if (epoch % 20 == 0.0):\n",
    "        print(\"Epoch {} - loss: {}\".format(epoch, output))\n",
    "    "
   ]
  },
  {
   "cell_type": "code",
   "execution_count": 16,
   "metadata": {},
   "outputs": [
    {
     "name": "stdout",
     "output_type": "stream",
     "text": [
      "[Parameter containing:\n",
      " 1.3115\n",
      " 1.0985\n",
      "[torch.cuda.FloatTensor of size 2x1 (GPU 0)]\n",
      ", Parameter containing:\n",
      " 0.3620\n",
      "-0.9046\n",
      "[torch.cuda.FloatTensor of size 2 (GPU 0)]\n",
      ", Parameter containing:\n",
      " 1.3369  1.1086\n",
      "[torch.cuda.FloatTensor of size 1x2 (GPU 0)]\n",
      ", Parameter containing:\n",
      " 0.6610\n",
      "[torch.cuda.FloatTensor of size 1 (GPU 0)]\n",
      "]\n"
     ]
    }
   ],
   "source": [
    "print(list(net.parameters()))"
   ]
  }
 ],
 "metadata": {
  "kernelspec": {
   "display_name": "Python [conda env:py36]",
   "language": "python",
   "name": "conda-env-py36-py"
  },
  "language_info": {
   "codemirror_mode": {
    "name": "ipython",
    "version": 3
   },
   "file_extension": ".py",
   "mimetype": "text/x-python",
   "name": "python",
   "nbconvert_exporter": "python",
   "pygments_lexer": "ipython3",
   "version": "3.6.3"
  }
 },
 "nbformat": 4,
 "nbformat_minor": 2
}
